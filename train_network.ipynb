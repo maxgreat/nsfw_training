{
 "cells": [
  {
   "cell_type": "code",
   "execution_count": null,
   "metadata": {},
   "outputs": [],
   "source": [
    "import torch\n",
    "from torch import nn, optim\n",
    "from torch.utils.data import DataLoader\n",
    "from torchvision import datasets, transforms, models\n",
    "from torchvision.datasets import ImageFolder\n",
    "import matplotlib.pyplot as plt\n",
    "import seaborn as sns\n",
    "from sklearn.metrics import confusion_matrix\n",
    "from tensorboardX import SummaryWriter\n",
    "import time\n",
    "import numpy as np\n",
    "from PIL import Image"
   ]
  },
  {
   "cell_type": "code",
   "execution_count": null,
   "metadata": {},
   "outputs": [],
   "source": [
    "# Configuration Variables\n",
    "MEAN_PREPRO = [0.485, 0.456, 0.406]\n",
    "STD_PREPRO = [0.229, 0.224, 0.225]\n",
    "RESIZE_PREPRO = 256,256\n",
    "RESIZE_DRAW = 256,256\n",
    "\n",
    "TRAIN_BATCH_SIZE = 128\n",
    "TRAIN_SHUFFLE = True\n",
    "TRAIN_NUM_WORKERS = 8\n",
    "TRAIN_PIN_MEMORY = True\n",
    "\n",
    "VAL_BATCH_SIZE = 512\n",
    "VAL_SHUFFLE = False\n",
    "VAL_NUM_WORKERS = 4\n",
    "VAL_PIN_MEMORY = True\n",
    "\n",
    "INITIAL_LR = 1e-4\n",
    "DEVICE_ID = 1\n",
    "\n",
    "DATA_DIR = '/data/porn/binary/'\n",
    "TRAINSET_ROOT = f'{DATA_DIR}/train'\n",
    "TESTSET_ROOT = f'{DATA_DIR}/test'\n",
    "\n",
    "TENSORBOARD_DIR = '/data/porn/tensorboard/resnext101/'"
   ]
  },
  {
   "cell_type": "code",
   "execution_count": null,
   "metadata": {},
   "outputs": [],
   "source": [
    "normalize = transforms.Normalize(\n",
    "        mean=MEAN_PREPRO, std=STD_PREPRO\n",
    "    )\n",
    "prepro = transforms.Compose(\n",
    "    [\n",
    "        transforms.RandomResizedCrop(256),\n",
    "        transforms.RandomHorizontalFlip(),\n",
    "        transforms.ToTensor(),\n",
    "        normalize,\n",
    "    ]\n",
    ")\n",
    "prepro_val = transforms.Compose(\n",
    "    [transforms.Resize(RESIZE_PREPRO), transforms.ToTensor(), normalize]\n",
    ")\n",
    "\n",
    "prepro_draw = transforms.Compose(\n",
    "    [transforms.Resize(RESIZE_DRAW), transforms.ToTensor()]\n",
    ")\n"
   ]
  },
  {
   "cell_type": "code",
   "execution_count": 82,
   "metadata": {},
   "outputs": [],
   "source": [
    "class validation_dataset(ImageFolder):\n",
    "    def __init__(self, root, transform, target_transform=None):\n",
    "        super().__init__(root, transform=transform, target_transform=target_transform)\n",
    "        \n",
    "    def __getitem__(self, index):\n",
    "        data, label = super().__getitem__(index)\n",
    "        return data, label, index"
   ]
  },
  {
   "cell_type": "code",
   "execution_count": 84,
   "metadata": {},
   "outputs": [
    {
     "name": "stdout",
     "output_type": "stream",
     "text": [
      "['nsfw', 'safe']\n"
     ]
    }
   ],
   "source": [
    "train_dataset = ImageFolder(TRAINSET_ROOT, transform=prepro)\n",
    "val_dataset = validation_dataset(TESTSET_ROOT, transform=prepro_val)\n",
    "print(train_dataset.classes)"
   ]
  },
  {
   "cell_type": "code",
   "execution_count": 85,
   "metadata": {},
   "outputs": [],
   "source": [
    "train_loader = DataLoader(train_dataset, batch_size=TRAIN_BATCH_SIZE, shuffle=TRAIN_SHUFFLE, num_workers=TRAIN_NUM_WORKERS, pin_memory=True, drop_last=True)\n",
    "val_loader = DataLoader(val_dataset, batch_size=VAL_BATCH_SIZE, shuffle=VAL_SHUFFLE, num_workers=VAL_NUM_WORKERS, pin_memory=VAL_PIN_MEMORY, drop_last=False)"
   ]
  },
  {
   "cell_type": "code",
   "execution_count": 86,
   "metadata": {},
   "outputs": [],
   "source": [
    "model = models.resnext101_32x8d(pretrained=True)\n",
    "model.fc = torch.nn.Linear(2048, 1)\n",
    "DEVICE = f\"cuda:{DEVICE_ID}\"\n",
    "model = model.to(DEVICE)\n",
    "for p in model.parameters():\n",
    "    p.requires_grad=False\n",
    "for p in model.fc.parameters():\n",
    "    p.requires_grad=True"
   ]
  },
  {
   "cell_type": "code",
   "execution_count": 87,
   "metadata": {},
   "outputs": [],
   "source": [
    "optimizer = optim.Adam([p for p in model.parameters() if p.requires_grad], lr=INITIAL_LR)\n",
    "criterion = nn.SoftMarginLoss() # TODO change it to crossentropy"
   ]
  },
  {
   "cell_type": "code",
   "execution_count": 88,
   "metadata": {},
   "outputs": [],
   "source": [
    "def plot_cm(classes, cm):\n",
    "    fig, ax = plt.subplots(figsize=(len(classes),len(classes)))  \n",
    "    ax= plt.subplot()\n",
    "    sns.heatmap(cm, annot=True, ax = ax,fmt=\"d\")\n",
    "    # labels, title and ticks\n",
    "    ax.set_xlabel('Predicted labels')\n",
    "    ax.set_ylabel('True labels') \n",
    "    ax.set_title('Confusion Matrix') \n",
    "    ax.xaxis.set_ticklabels(classes,rotation=90)\n",
    "    ax.yaxis.set_ticklabels(classes,rotation=0)\n",
    "    return fig"
   ]
  },
  {
   "cell_type": "code",
   "execution_count": 89,
   "metadata": {},
   "outputs": [],
   "source": [
    "def train(\n",
    "    train_loader,\n",
    "    model,\n",
    "    criterion,\n",
    "    optimizer,\n",
    "    epoch,\n",
    "    on_iteration=None,\n",
    "):\n",
    "    model = model.train()\n",
    "    end = time.time()\n",
    "    print(\"Start Training\")\n",
    "    avg_loss = 0\n",
    "    for i, (inputs, labels) in enumerate(train_loader):\n",
    "        print(f\"{i/len(train_loader) * 100 : 2.2f}%\", end=\"\\r\")\n",
    "        iteration_time = time.time()\n",
    "        inputs, labels = inputs.to(DEVICE), labels.to(DEVICE)\n",
    "        optimizer.zero_grad()\n",
    "        outputs = model(inputs)\n",
    "        loss = criterion(outputs, labels)\n",
    "        avg_loss += loss.item()\n",
    "        loss.backward()\n",
    "        optimizer.step()\n",
    "        if on_iteration is not None:\n",
    "            on_iteration(iteration=i+epoch*len(train_loader), loss=loss, y_pred=outputs, y_true=labels)     \n",
    "    return avg_loss/len(train_loader)"
   ]
  },
  {
   "cell_type": "code",
   "execution_count": 90,
   "metadata": {},
   "outputs": [],
   "source": [
    "def validate(val_loader, \n",
    "             model, \n",
    "             criterion,\n",
    "             print_freq=1000):\n",
    "    model = model.eval()\n",
    "    y_pred, y_true, proba_pred, indexes = [], [], [], []\n",
    "    avg_loss = 0\n",
    "    for i, (inputs, labels, image_indexes) in enumerate(val_loader):\n",
    "        inputs, labels = inputs.to(DEVICE), labels.to(DEVICE)\n",
    "        with torch.no_grad():\n",
    "            outputs = model(inputs)\n",
    "            avg_loss += criterion(outputs, labels).item()\n",
    "        proba_pred.append(outputs.cpu().clone())\n",
    "        _, indices_max = torch.max(outputs.cpu(), 1)\n",
    "        y_pred.append(indices_max)\n",
    "        y_true.append(labels.cpu().clone())\n",
    "        indexes.append(image_indexes.clone())\n",
    "    return {\"loss\":avg_loss/len(val_loader), \n",
    "            \"class_prediction\":torch.cat(y_pred), \n",
    "            \"ground_truth\":torch.cat(y_true), \n",
    "            \"probabilities\":torch.cat(proba_pred), \n",
    "            \"images_index\":torch.LongTensor(torch.cat(indexes))}"
   ]
  },
  {
   "cell_type": "code",
   "execution_count": 91,
   "metadata": {},
   "outputs": [],
   "source": [
    "def draw_max_error(epoch, val_res, n=5):\n",
    "    # max false positive\n",
    "    fp = (val_res[\"class_prediction\"] == 0) & (val_res[\"ground_truth\"] == 1)\n",
    "    values, images = [], []\n",
    "    for i in range(len(fp)):\n",
    "        if fp[i]:\n",
    "            values.append(val_res[\"probabilities\"][i][1])\n",
    "            images.append(val_dataset.imgs[val_res[\"images_index\"][i]][0])\n",
    "    _, max_indexes = torch.sort(torch.Tensor(values), descending=True)\n",
    "    for i in range(n):\n",
    "        logger.add_image(f\"Eval/FalsePositive/{i}\", prepro_draw(Image.open(images[max_indexes[i]])), epoch)\n",
    "        \n",
    "    #false negative\n",
    "    fn = (val_res[\"class_prediction\"] == 1) & (val_res[\"ground_truth\"] == 0)\n",
    "    values, images = [], []\n",
    "    for i in range(len(fn)):\n",
    "        if fn[i]:\n",
    "            values.append(val_res[\"probabilities\"][i][0])\n",
    "            images.append(val_dataset.imgs[val_res[\"images_index\"][i]][0])\n",
    "    _, max_indexes = torch.sort(torch.Tensor(values), descending=True)\n",
    "    for i in range(n):\n",
    "        logger.add_image(f\"Eval/FalseNegative/{i}\", prepro_draw(Image.open(images[max_indexes[i]])), epoch)"
   ]
  },
  {
   "cell_type": "code",
   "execution_count": null,
   "metadata": {},
   "outputs": [],
   "source": [
    "def compute_regression(pred, gt):\n",
    "    c = 0\n",
    "    TRUE_POSITIVE = gt == 1\n",
    "    PRED_POSITIVE = gt > 0.5\n",
    "    VP = TRUE_POSITIVE & PRED_POSITIVE\n",
    "    FN = TRUE_POSITIVE & not PRED_POSITIVE\n",
    "    VN = not TRUE_POSITIVE & not PRED_POSITIVE\n",
    "    FP = not TRUE_POSITIVE & PRED_POSITIVE\n",
    "    PRECISION = float(VP.sum()) / (PRED_POSITIVE.sum())\n",
    "    RECALL = float(VP.sum()) / (VP.sum() + FN.sum())\n",
    "    return recall, precision"
   ]
  },
  {
   "cell_type": "code",
   "execution_count": 92,
   "metadata": {},
   "outputs": [],
   "source": [
    "def compute_score(val_res):\n",
    "    VP = (val_res[\"class_prediction\"] == 0) & (val_res[\"ground_truth\"] == 0)\n",
    "    FP = (val_res[\"class_prediction\"] == 0) & (val_res[\"ground_truth\"] == 1)\n",
    "    FN = (val_res[\"class_prediction\"] == 1) & (val_res[\"ground_truth\"] == 0)\n",
    "    vp = float(VP.sum())\n",
    "    fp = FP.sum()\n",
    "    fn = FN.sum()\n",
    "    precision = vp / (vp + fp)\n",
    "    recall = vp / (vp + fn)\n",
    "    return precision, recall"
   ]
  },
  {
   "cell_type": "code",
   "execution_count": null,
   "metadata": {},
   "outputs": [],
   "source": [
    "def validation_logs(epoch, validation_res):\n",
    "    logger.add_scalar(\"Loss/Avg_Val\", validation_res[\"loss\"], epoch)\n",
    "    logger.add_scalar(\"Eval/Accuracy\", (validation_res[\"class_prediction\"]==validation_res[\"ground_truth\"]).sum()/float(len(validation_res[\"ground_truth\"])), epoch)\n",
    "    precision, recall = compute_score(validation_res)\n",
    "    logger.add_scalar(\"Eval/Recall\", recall, epoch)\n",
    "    logger.add_scalar(\"Eval/Precision\", precision, epoch)\n",
    "    probas = [x[validation_res[\"ground_truth\"][i]] for i,x in enumerate(validation_res[\"probabilities\"])]\n",
    "    logger.add_pr_curve(\"Eval/Prec_recall\", validation_res[\"ground_truth\"], probas, epoch)\n",
    "    draw_max_error(epoch, validation_res)\n",
    "    cm = confusion_matrix(validation_res[\"class_prediction\"], validation_res[\"ground_truth\"])\n",
    "    cm_image = plot_cm(train_dataset.classes, cm)\n",
    "    logger.add_figure(\"Eval/Confusion Matrix\", cm_image, epoch)"
   ]
  },
  {
   "cell_type": "code",
   "execution_count": null,
   "metadata": {},
   "outputs": [],
   "source": [
    "def on_iteration_logs(iteration, loss, y_pred, y_true):\n",
    "    l = loss.item()\n",
    "    if iteration%200 == 0:\n",
    "        logger.add_scalar(\"Loss/Train\", l, iteration)\n",
    "        print(\n",
    "                f\"{iteration}/{len(train_loader)} \\t\"\n",
    "                f\"Loss {l}\"\n",
    "            )"
   ]
  },
  {
   "cell_type": "code",
   "execution_count": null,
   "metadata": {},
   "outputs": [],
   "source": [
    "logger = SummaryWriter(TENSORBOARD_DIR)"
   ]
  },
  {
   "cell_type": "code",
   "execution_count": null,
   "metadata": {},
   "outputs": [],
   "source": [
    "for i in range(10):\n",
    "    val_res = validate(val_loader, model, criterion)\n",
    "    validation_logs(i, val_res)\n",
    "    loss = train(\n",
    "                    train_loader,\n",
    "                    model,\n",
    "                    criterion,\n",
    "                    optimizer,\n",
    "                    i,\n",
    "                    on_iteration=on_iteration_logs,\n",
    "                )\n",
    "    logger.add_scalar(\"Loss/Avg_Train\", loss, i)"
   ]
  },
  {
   "cell_type": "code",
   "execution_count": null,
   "metadata": {},
   "outputs": [],
   "source": [
    "for i, child in enumerate(model.children()):\n",
    "    if i > 6:\n",
    "        for p in child.parameters():\n",
    "            p.requires_grad=True"
   ]
  },
  {
   "cell_type": "code",
   "execution_count": null,
   "metadata": {},
   "outputs": [],
   "source": [
    "train_loader = DataLoader(train_dataset, batch_size=TRAIN_BATCH_SIZE//2, shuffle=TRAIN_SHUFFLE, num_workers=TRAIN_NUM_WORKERS, pin_memory=True, drop_last=True)"
   ]
  },
  {
   "cell_type": "code",
   "execution_count": null,
   "metadata": {},
   "outputs": [],
   "source": [
    "optimizer = optim.Adam([p for p in model.parameters() if p.requires_grad], lr=INITIAL_LR*0.1)"
   ]
  },
  {
   "cell_type": "code",
   "execution_count": null,
   "metadata": {},
   "outputs": [],
   "source": [
    "for i in range(10,40):\n",
    "    val_res = validate(val_loader, model, criterion)\n",
    "    validation_logs(i, val_res)\n",
    "    loss = train(\n",
    "                    train_loader,\n",
    "                    model,\n",
    "                    criterion,\n",
    "                    optimizer,\n",
    "                    i,\n",
    "                    on_iteration=on_iteration_logs,\n",
    "                )\n",
    "    logger.add_scalar(\"Loss/Avg_Train\", loss, i)"
   ]
  },
  {
   "cell_type": "code",
   "execution_count": null,
   "metadata": {},
   "outputs": [],
   "source": [
    "DEVICE = \"cuda:2\"\n",
    "model = model.to(DEVICE)"
   ]
  },
  {
   "cell_type": "code",
   "execution_count": null,
   "metadata": {},
   "outputs": [],
   "source": [
    "train_loader = DataLoader(train_dataset, batch_size=TRAIN_BATCH_SIZE//4, shuffle=TRAIN_SHUFFLE, num_workers=TRAIN_NUM_WORKERS, pin_memory=True, drop_last=True)\n",
    "optimizer = optim.Adam([p for p in model.parameters() if p.requires_grad], lr=INITIAL_LR*0.1)\n",
    "for i, child in enumerate(model.children()):\n",
    "    if i > 3:\n",
    "        for p in child.parameters():\n",
    "            p.requires_grad=True\n",
    "optimizer = optim.Adam([p for p in model.parameters() if p.requires_grad], lr=INITIAL_LR*0.01)"
   ]
  },
  {
   "cell_type": "code",
   "execution_count": null,
   "metadata": {},
   "outputs": [],
   "source": [
    "for i in range(40,80):\n",
    "    val_res = validate(val_loader, model, criterion)\n",
    "    validation_logs(i, val_res)\n",
    "    loss = train(\n",
    "                    train_loader,\n",
    "                    model,\n",
    "                    criterion,\n",
    "                    optimizer,\n",
    "                    i,\n",
    "                    on_iteration=on_iteration_logs,\n",
    "                )\n",
    "    logger.add_scalar(\"Loss/Avg_Train\", loss, i)"
   ]
  },
  {
   "cell_type": "code",
   "execution_count": null,
   "metadata": {},
   "outputs": [],
   "source": []
  }
 ],
 "metadata": {
  "kernelspec": {
   "display_name": "Python 3",
   "language": "python",
   "name": "python3"
  },
  "language_info": {
   "codemirror_mode": {
    "name": "ipython",
    "version": 3
   },
   "file_extension": ".py",
   "mimetype": "text/x-python",
   "name": "python",
   "nbconvert_exporter": "python",
   "pygments_lexer": "ipython3",
   "version": "3.7.4"
  }
 },
 "nbformat": 4,
 "nbformat_minor": 4
}
