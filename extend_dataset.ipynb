{
 "cells": [
  {
   "cell_type": "code",
   "execution_count": 120,
   "metadata": {},
   "outputs": [],
   "source": [
    "import time\n",
    "import urllib.parse as urlparser\n",
    "import uuid\n",
    "from io import BytesIO\n",
    "from os import path\n",
    "from lxml import etree\n",
    "from urllib.request import Request, urlopen\n",
    "import requests\n",
    "from PIL import Image\n",
    "import six\n",
    "import shutil\n",
    "import os.path as pth"
   ]
  },
  {
   "cell_type": "code",
   "execution_count": 94,
   "metadata": {},
   "outputs": [],
   "source": [
    "Pages = [\"https://multi.xnxx.com/category/non-nude/\", \"http://viewgals.com/non-nude/\"]"
   ]
  },
  {
   "cell_type": "code",
   "execution_count": null,
   "metadata": {},
   "outputs": [],
   "source": [
    "Pages = [\"https://multi.xnxx.com/category/non-nude/p-2/\", \"https://multi.xnxx.com/category/non-nude/p-3/\", \"https://multi.xnxx.com/category/non-nude/p-4/\""
   ]
  },
  {
   "cell_type": "code",
   "execution_count": 95,
   "metadata": {},
   "outputs": [],
   "source": [
    "def get_text(element):\n",
    "    text = get_attr(element, \"title\")\n",
    "    text += get_attr(element.getparent(), \"title\")\n",
    "    return text + \"\".join(element.getparent().itertext()).replace(\"\\n\", \" \")\n",
    "\n",
    "\n",
    "def get_attr(node, attr):\n",
    "    if node is not None:\n",
    "        if node.get(attr) is not None:\n",
    "            return node.get(attr)\n",
    "    return \"\"\n",
    "\n",
    "\n",
    "def get_format(uri):\n",
    "    uri_path = urlparser.urlparse(uri).path\n",
    "    _, ext = path.splitext(uri_path)\n",
    "    if ext.lower() in EXT:\n",
    "        return ext.lower()\n",
    "    return \"\""
   ]
  },
  {
   "cell_type": "code",
   "execution_count": 96,
   "metadata": {},
   "outputs": [],
   "source": [
    "parser = etree.HTMLParser(remove_comments=True, default_doctype=False, recover=True)\n",
    "\n",
    "EXT = [\".jpg\", \".jpeg\", \".gif\", \".png\"]\n",
    "\n",
    "def find_img_data(html):\n",
    "    try:\n",
    "        tree = etree.parse(BytesIO(html), parser)\n",
    "    except Exception as e:\n",
    "        raise Exception(\"Cannot parse images : \" + e)\n",
    "    imgs_list = tree.findall(\"//img\")\n",
    "    links = []\n",
    "    for img in imgs_list:\n",
    "        l = \"\"\n",
    "        if \"src\" in img.attrib:\n",
    "            l = img.attrib[\"src\"]\n",
    "        elif \"data-src\" in img.attrib:\n",
    "            l = img.attrib[\"data-src\"]\n",
    "        if l[:4] == \"http\":\n",
    "            links.append(l)\n",
    "    return links\n"
   ]
  },
  {
   "cell_type": "code",
   "execution_count": 97,
   "metadata": {},
   "outputs": [],
   "source": [
    "def scale(content, min_dim):\n",
    "    \"\"\" Aspect-ratio preserving scale such that the smallest dim is equal to `min_dim` \"\"\"\n",
    "\n",
    "    image = Image.open(content)\n",
    "\n",
    "    # no scaling, keep images full size\n",
    "    if min_dim == -1:\n",
    "        return image\n",
    "\n",
    "    # aspect-ratio preserving scale so that the smallest dimension is `min_dim`\n",
    "    width, height = image.size\n",
    "    scale_dimension = width if width < height else height\n",
    "    scale_ratio = float(min_dim) / scale_dimension\n",
    "\n",
    "    if scale_ratio == 1:\n",
    "        return image\n",
    "\n",
    "    return image.resize(\n",
    "        (int(width * scale_ratio), int(height * scale_ratio)),\n",
    "        Image.ANTIALIAS,\n",
    "    )"
   ]
  },
  {
   "cell_type": "code",
   "execution_count": 112,
   "metadata": {},
   "outputs": [],
   "source": [
    "def read_image(response, min_dim=300):\n",
    "    \"\"\" Download response in chunks and convert to a scaled Image object \"\"\"\n",
    "\n",
    "    content = six.BytesIO()\n",
    "    shutil.copyfileobj(response.raw, content)\n",
    "    content.seek(0)\n",
    "    \n",
    "    if min_dim > 0 :\n",
    "        return scale(content, min_dim)\n",
    "    else:\n",
    "        return Image.open(content)"
   ]
  },
  {
   "cell_type": "code",
   "execution_count": 113,
   "metadata": {},
   "outputs": [],
   "source": [
    "SAVING_PATH=\"/data/porn/data/train/sexy/\""
   ]
  },
  {
   "cell_type": "code",
   "execution_count": 126,
   "metadata": {},
   "outputs": [],
   "source": [
    "def get_qwant_data(text, save_dir, nb_images=100):\n",
    "    try:\n",
    "        r = requests.get(\"https://api.qwant.com/api/search/images\",\n",
    "            params={\n",
    "                'count': nb_images,\n",
    "                'q': text,\n",
    "                't': 'images',\n",
    "                'safesearch': 1,\n",
    "                'locale': 'fr_FR',\n",
    "                'uiv': 4\n",
    "            },\n",
    "            headers={\n",
    "                'User-Agent': 'Mozilla/5.0 (Windows NT 10.0; Win64; x64) AppleWebKit/537.36 (KHTML, like Gecko) Chrome/56.0.2924.87 Safari/537.36'\n",
    "            },\n",
    "            stream=True, timeout=2.0\n",
    "        )\n",
    "    except Exception as e:\n",
    "        print(e)\n",
    "        return\n",
    "    try:\n",
    "        response = r.json().get('data').get('result').get('items')\n",
    "    except Exception as e:\n",
    "        print(e)\n",
    "        return\n",
    "    urls = [r.get('media') for r in response]\n",
    "    for i, url in enumerate(urls):\n",
    "        print(f\"{i}/{len(urls)}\", end=\"\\r\")\n",
    "        id = str(uuid.uuid5(uuid.NAMESPACE_URL, url)) + '.jpg'\n",
    "        if 'base64,' in url:\n",
    "            image_data = url.split(',')[1]\n",
    "            buffered = BytesIO()\n",
    "            im = Image.open(buffered, format=\"JPEG\").convert(\"RGB\")\n",
    "            im.save(pth.join(save_dir,id))\n",
    "        else:\n",
    "            try:\n",
    "                response = requests.get(url,stream=True, timeout=2.0)\n",
    "            except Exception as e:\n",
    "                print(e)\n",
    "                continue\n",
    "            if response.status_code < 400:\n",
    "                try :\n",
    "                    im = read_image(response).convert(\"RGB\")\n",
    "                    im.save(pth.join(save_dir,id))\n",
    "                except Exception as e:\n",
    "                    print(e)\n",
    "    return"
   ]
  },
  {
   "cell_type": "code",
   "execution_count": 127,
   "metadata": {},
   "outputs": [],
   "source": [
    "QUERIES= [\"nude\", \"woman beach\", \"waifu\"]"
   ]
  },
  {
   "cell_type": "code",
   "execution_count": 128,
   "metadata": {},
   "outputs": [
    {
     "name": "stdout",
     "output_type": "stream",
     "text": [
      "cannot identify image file <_io.BytesIO object at 0x7fc064774a70>\n",
      "HTTPSConnectionPool(host='wallpapersite.com', port=443): Read timed out. (read timeout=2.0)\n",
      "cannot identify image file <_io.BytesIO object at 0x7fc0646ee350>\n",
      "cannot identify image file <_io.BytesIO object at 0x7fc0646ddc50>\n",
      "99/100\r"
     ]
    }
   ],
   "source": [
    "for q in QUERIES:\n",
    "    get_qwant_data(q, \"/data/porn/tmp/\")"
   ]
  },
  {
   "cell_type": "code",
   "execution_count": 100,
   "metadata": {},
   "outputs": [
    {
     "name": "stdout",
     "output_type": "stream",
     "text": [
      "200/201\r"
     ]
    },
    {
     "ename": "OSError",
     "evalue": "cannot write mode P as JPEG",
     "output_type": "error",
     "traceback": [
      "\u001b[0;31m---------------------------------------------------------------------------\u001b[0m",
      "\u001b[0;31mKeyError\u001b[0m                                  Traceback (most recent call last)",
      "\u001b[0;32m/opt/conda/lib/python3.7/site-packages/PIL/JpegImagePlugin.py\u001b[0m in \u001b[0;36m_save\u001b[0;34m(im, fp, filename)\u001b[0m\n\u001b[1;32m    614\u001b[0m     \u001b[0;32mtry\u001b[0m\u001b[0;34m:\u001b[0m\u001b[0;34m\u001b[0m\u001b[0;34m\u001b[0m\u001b[0m\n\u001b[0;32m--> 615\u001b[0;31m         \u001b[0mrawmode\u001b[0m \u001b[0;34m=\u001b[0m \u001b[0mRAWMODE\u001b[0m\u001b[0;34m[\u001b[0m\u001b[0mim\u001b[0m\u001b[0;34m.\u001b[0m\u001b[0mmode\u001b[0m\u001b[0;34m]\u001b[0m\u001b[0;34m\u001b[0m\u001b[0;34m\u001b[0m\u001b[0m\n\u001b[0m\u001b[1;32m    616\u001b[0m     \u001b[0;32mexcept\u001b[0m \u001b[0mKeyError\u001b[0m\u001b[0;34m:\u001b[0m\u001b[0;34m\u001b[0m\u001b[0;34m\u001b[0m\u001b[0m\n",
      "\u001b[0;31mKeyError\u001b[0m: 'P'",
      "\nDuring handling of the above exception, another exception occurred:\n",
      "\u001b[0;31mOSError\u001b[0m                                   Traceback (most recent call last)",
      "\u001b[0;32m<ipython-input-100-c101a08b6734>\u001b[0m in \u001b[0;36m<module>\u001b[0;34m\u001b[0m\n\u001b[1;32m     10\u001b[0m             \u001b[0;32mcontinue\u001b[0m\u001b[0;34m\u001b[0m\u001b[0;34m\u001b[0m\u001b[0m\n\u001b[1;32m     11\u001b[0m         \u001b[0mimage\u001b[0m \u001b[0;34m=\u001b[0m \u001b[0mread_image\u001b[0m\u001b[0;34m(\u001b[0m\u001b[0mresponse\u001b[0m\u001b[0;34m,\u001b[0m \u001b[0;36m256\u001b[0m\u001b[0;34m)\u001b[0m\u001b[0;34m\u001b[0m\u001b[0;34m\u001b[0m\u001b[0m\n\u001b[0;32m---> 12\u001b[0;31m         \u001b[0mimage\u001b[0m\u001b[0;34m.\u001b[0m\u001b[0msave\u001b[0m\u001b[0;34m(\u001b[0m\u001b[0;34mf\"{SAVING_PATH}{uuid.uuid5(uuid.NAMESPACE_URL, link)}.jpg\"\u001b[0m\u001b[0;34m)\u001b[0m\u001b[0;34m\u001b[0m\u001b[0;34m\u001b[0m\u001b[0m\n\u001b[0m",
      "\u001b[0;32m/opt/conda/lib/python3.7/site-packages/PIL/Image.py\u001b[0m in \u001b[0;36msave\u001b[0;34m(self, fp, format, **params)\u001b[0m\n\u001b[1;32m   2100\u001b[0m \u001b[0;34m\u001b[0m\u001b[0m\n\u001b[1;32m   2101\u001b[0m         \u001b[0;32mtry\u001b[0m\u001b[0;34m:\u001b[0m\u001b[0;34m\u001b[0m\u001b[0;34m\u001b[0m\u001b[0m\n\u001b[0;32m-> 2102\u001b[0;31m             \u001b[0msave_handler\u001b[0m\u001b[0;34m(\u001b[0m\u001b[0mself\u001b[0m\u001b[0;34m,\u001b[0m \u001b[0mfp\u001b[0m\u001b[0;34m,\u001b[0m \u001b[0mfilename\u001b[0m\u001b[0;34m)\u001b[0m\u001b[0;34m\u001b[0m\u001b[0;34m\u001b[0m\u001b[0m\n\u001b[0m\u001b[1;32m   2103\u001b[0m         \u001b[0;32mfinally\u001b[0m\u001b[0;34m:\u001b[0m\u001b[0;34m\u001b[0m\u001b[0;34m\u001b[0m\u001b[0m\n\u001b[1;32m   2104\u001b[0m             \u001b[0;31m# do what we can to clean up\u001b[0m\u001b[0;34m\u001b[0m\u001b[0;34m\u001b[0m\u001b[0;34m\u001b[0m\u001b[0m\n",
      "\u001b[0;32m/opt/conda/lib/python3.7/site-packages/PIL/JpegImagePlugin.py\u001b[0m in \u001b[0;36m_save\u001b[0;34m(im, fp, filename)\u001b[0m\n\u001b[1;32m    615\u001b[0m         \u001b[0mrawmode\u001b[0m \u001b[0;34m=\u001b[0m \u001b[0mRAWMODE\u001b[0m\u001b[0;34m[\u001b[0m\u001b[0mim\u001b[0m\u001b[0;34m.\u001b[0m\u001b[0mmode\u001b[0m\u001b[0;34m]\u001b[0m\u001b[0;34m\u001b[0m\u001b[0;34m\u001b[0m\u001b[0m\n\u001b[1;32m    616\u001b[0m     \u001b[0;32mexcept\u001b[0m \u001b[0mKeyError\u001b[0m\u001b[0;34m:\u001b[0m\u001b[0;34m\u001b[0m\u001b[0;34m\u001b[0m\u001b[0m\n\u001b[0;32m--> 617\u001b[0;31m         \u001b[0;32mraise\u001b[0m \u001b[0mOSError\u001b[0m\u001b[0;34m(\u001b[0m\u001b[0;34m\"cannot write mode %s as JPEG\"\u001b[0m \u001b[0;34m%\u001b[0m \u001b[0mim\u001b[0m\u001b[0;34m.\u001b[0m\u001b[0mmode\u001b[0m\u001b[0;34m)\u001b[0m\u001b[0;34m\u001b[0m\u001b[0;34m\u001b[0m\u001b[0m\n\u001b[0m\u001b[1;32m    618\u001b[0m \u001b[0;34m\u001b[0m\u001b[0m\n\u001b[1;32m    619\u001b[0m     \u001b[0minfo\u001b[0m \u001b[0;34m=\u001b[0m \u001b[0mim\u001b[0m\u001b[0;34m.\u001b[0m\u001b[0mencoderinfo\u001b[0m\u001b[0;34m\u001b[0m\u001b[0;34m\u001b[0m\u001b[0m\n",
      "\u001b[0;31mOSError\u001b[0m: cannot write mode P as JPEG"
     ]
    }
   ],
   "source": [
    "for page in Pages:\n",
    "    data = Request(page)\n",
    "    html = urlopen(data).read()\n",
    "    links = find_img_data(html)\n",
    "    for i, link in enumerate(links):\n",
    "        print(f\"{i}/{len(links)}\", end='\\r')\n",
    "        try:\n",
    "            response = requests.get(link, stream=True, timeout=2.0)\n",
    "        except:\n",
    "            continue\n",
    "        image = read_image(response, 256)\n",
    "        image.save(f\"{SAVING_PATH}{uuid.uuid5(uuid.NAMESPACE_URL, link)}.jpg\")"
   ]
  },
  {
   "cell_type": "code",
   "execution_count": null,
   "metadata": {},
   "outputs": [],
   "source": []
  },
  {
   "cell_type": "code",
   "execution_count": null,
   "metadata": {},
   "outputs": [],
   "source": []
  },
  {
   "cell_type": "code",
   "execution_count": null,
   "metadata": {},
   "outputs": [],
   "source": []
  },
  {
   "cell_type": "code",
   "execution_count": null,
   "metadata": {},
   "outputs": [],
   "source": []
  },
  {
   "cell_type": "code",
   "execution_count": null,
   "metadata": {},
   "outputs": [],
   "source": []
  },
  {
   "cell_type": "code",
   "execution_count": null,
   "metadata": {},
   "outputs": [],
   "source": []
  },
  {
   "cell_type": "code",
   "execution_count": null,
   "metadata": {},
   "outputs": [],
   "source": []
  },
  {
   "cell_type": "code",
   "execution_count": null,
   "metadata": {},
   "outputs": [],
   "source": []
  },
  {
   "cell_type": "code",
   "execution_count": null,
   "metadata": {},
   "outputs": [],
   "source": []
  },
  {
   "cell_type": "code",
   "execution_count": null,
   "metadata": {},
   "outputs": [],
   "source": []
  },
  {
   "cell_type": "code",
   "execution_count": null,
   "metadata": {},
   "outputs": [],
   "source": []
  }
 ],
 "metadata": {
  "kernelspec": {
   "display_name": "Python 3",
   "language": "python",
   "name": "python3"
  },
  "language_info": {
   "codemirror_mode": {
    "name": "ipython",
    "version": 3
   },
   "file_extension": ".py",
   "mimetype": "text/x-python",
   "name": "python",
   "nbconvert_exporter": "python",
   "pygments_lexer": "ipython3",
   "version": "3.7.4"
  }
 },
 "nbformat": 4,
 "nbformat_minor": 4
}
