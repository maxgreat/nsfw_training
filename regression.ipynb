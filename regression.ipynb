{
 "cells": [
  {
   "cell_type": "code",
   "execution_count": 1,
   "metadata": {},
   "outputs": [],
   "source": [
    "import torch\n",
    "from torch import nn, optim\n",
    "from torch.utils.data import DataLoader, Dataset\n",
    "from torchvision import datasets, transforms, models\n",
    "from torchvision.datasets import ImageFolder\n",
    "import matplotlib.pyplot as plt\n",
    "import seaborn as sns\n",
    "from sklearn.metrics import confusion_matrix\n",
    "from tensorboardX import SummaryWriter\n",
    "import time\n",
    "import numpy as np\n",
    "from PIL import Image\n",
    "from typing import List\n",
    "StringList = List[str]\n",
    "from glob import glob\n",
    "import os\n",
    "import torchvision.datasets.folder"
   ]
  },
  {
   "cell_type": "code",
   "execution_count": 2,
   "metadata": {},
   "outputs": [],
   "source": [
    "# Configuration Variables\n",
    "MEAN_PREPRO = [0.485, 0.456, 0.406]\n",
    "STD_PREPRO = [0.229, 0.224, 0.225]\n",
    "RESIZE_PREPRO = 256,256\n",
    "RESIZE_DRAW = 256,256\n",
    "\n",
    "TRAIN_BATCH_SIZE = 128\n",
    "TRAIN_SHUFFLE = True\n",
    "TRAIN_NUM_WORKERS = 8\n",
    "TRAIN_PIN_MEMORY = True\n",
    "\n",
    "VAL_BATCH_SIZE = 512\n",
    "VAL_SHUFFLE = False\n",
    "VAL_NUM_WORKERS = 4\n",
    "VAL_PIN_MEMORY = True\n",
    "\n",
    "INITIAL_LR = 1e-4\n",
    "DEVICE_ID = 1\n",
    "\n",
    "DATA_DIR = '/data/porn/binary/'\n",
    "TRAINSET_ROOT_NSFW = f'{DATA_DIR}train/nsfw'\n",
    "TRAINSET_ROOT_SAFE = f'{DATA_DIR}train/safe'\n",
    "TESTSET_ROOT_NSFW = f'{DATA_DIR}test/nsfw'\n",
    "TESTSET_ROOT_SAFE = f'{DATA_DIR}test/safe'\n",
    "\n",
    "TENSORBOARD_DIR = '/data/porn/tensorboard/regression-resnnext/'"
   ]
  },
  {
   "cell_type": "code",
   "execution_count": 3,
   "metadata": {},
   "outputs": [],
   "source": [
    "normalize = transforms.Normalize(\n",
    "        mean=MEAN_PREPRO, std=STD_PREPRO\n",
    "    )\n",
    "prepro = transforms.Compose(\n",
    "    [\n",
    "        transforms.RandomResizedCrop(256),\n",
    "        transforms.RandomHorizontalFlip(),\n",
    "        transforms.ToTensor(),\n",
    "        normalize,\n",
    "    ]\n",
    ")\n",
    "prepro_val = transforms.Compose(\n",
    "    [transforms.Resize(RESIZE_PREPRO), transforms.ToTensor(), normalize]\n",
    ")\n",
    "\n",
    "prepro_draw = transforms.Compose(\n",
    "    [transforms.Resize(RESIZE_DRAW), transforms.ToTensor()]\n",
    ")"
   ]
  },
  {
   "cell_type": "code",
   "execution_count": 4,
   "metadata": {},
   "outputs": [],
   "source": [
    "class BinaryDataset(Dataset):\n",
    "    def __init__(self, positiveFolders: StringList, negativeFolders: StringList, transform: transforms.Compose, show_index=False):\n",
    "        self.show_index = show_index\n",
    "        self.transform = transform\n",
    "        self.positives = []\n",
    "        self.negatives = []\n",
    "        \n",
    "        for f in positiveFolders:\n",
    "            self.positives.extend(glob(os.path.join(f, \"*.jpg\")))\n",
    "        for f in negativeFolders:\n",
    "            self.negatives.extend(glob(os.path.join(f, \"*.jpg\")))\n",
    "    \n",
    "    def __len__(self):\n",
    "        return len(self.positives) + len(self.negatives)\n",
    "    \n",
    "    def __str__(self):\n",
    "        return f\"\"\"\n",
    "Binary Dataset:\n",
    "    Positive Examples:{len(self.positives)}\n",
    "    Negative Examples:{len(self.negatives)}\n",
    "    \"\"\"\n",
    "    \n",
    "    def __repr__(self):\n",
    "        return str(self)\n",
    "    \n",
    "    def __getitem__(self, index):\n",
    "        if index < 0:\n",
    "            index = len(self)+index\n",
    "        if index >= len(self.positives):\n",
    "            index -= len(self.positives)\n",
    "            image_path = self.negatives[index]\n",
    "            cl = 0\n",
    "        else:\n",
    "            image_path = self.positives[index]\n",
    "            cl = 1\n",
    "            \n",
    "        im = torchvision.datasets.folder.default_loader(image_path)\n",
    "        im = self.transform(im)\n",
    "        if self.show_index:\n",
    "            return im, cl, index\n",
    "        else:\n",
    "            return im, cl"
   ]
  },
  {
   "cell_type": "code",
   "execution_count": 5,
   "metadata": {},
   "outputs": [],
   "source": [
    "train_dataset = BinaryDataset([TRAINSET_ROOT_SAFE], [TRAINSET_ROOT_NSFW], prepro)\n",
    "val_dataset = BinaryDataset([TESTSET_ROOT_SAFE], [TESTSET_ROOT_NSFW], prepro, show_index=True)"
   ]
  },
  {
   "cell_type": "code",
   "execution_count": 6,
   "metadata": {},
   "outputs": [],
   "source": [
    "train_loader = DataLoader(train_dataset, batch_size=TRAIN_BATCH_SIZE, shuffle=TRAIN_SHUFFLE, num_workers=TRAIN_NUM_WORKERS, pin_memory=True, drop_last=True)\n",
    "val_loader = DataLoader(val_dataset, batch_size=VAL_BATCH_SIZE, shuffle=VAL_SHUFFLE, num_workers=VAL_NUM_WORKERS, pin_memory=VAL_PIN_MEMORY, drop_last=False)"
   ]
  },
  {
   "cell_type": "code",
   "execution_count": 7,
   "metadata": {},
   "outputs": [
    {
     "name": "stderr",
     "output_type": "stream",
     "text": [
      "Downloading: \"https://download.pytorch.org/models/resnext50_32x4d-7cdf4587.pth\" to /root/.cache/torch/checkpoints/resnext50_32x4d-7cdf4587.pth\n"
     ]
    },
    {
     "data": {
      "application/vnd.jupyter.widget-view+json": {
       "model_id": "84bf5956f4534d8e8905b12ee091e6b3",
       "version_major": 2,
       "version_minor": 0
      },
      "text/plain": [
       "HBox(children=(IntProgress(value=0, max=100441675), HTML(value='')))"
      ]
     },
     "metadata": {},
     "output_type": "display_data"
    },
    {
     "name": "stdout",
     "output_type": "stream",
     "text": [
      "\n"
     ]
    }
   ],
   "source": [
    "model = models.resnext50_32x4d(pretrained=True)\n",
    "model.fc = torch.nn.Linear(2048, 1)\n",
    "DEVICE = f\"cuda:{DEVICE_ID}\"\n",
    "model = model.to(DEVICE)\n",
    "for p in model.parameters():\n",
    "    p.requires_grad=False\n",
    "for p in model.fc.parameters():\n",
    "    p.requires_grad=True"
   ]
  },
  {
   "cell_type": "code",
   "execution_count": 8,
   "metadata": {},
   "outputs": [],
   "source": [
    "optimizer = optim.Adam([p for p in model.parameters() if p.requires_grad], lr=INITIAL_LR)\n",
    "criterion = nn.L1Loss()"
   ]
  },
  {
   "cell_type": "code",
   "execution_count": 9,
   "metadata": {},
   "outputs": [],
   "source": [
    "def train(\n",
    "    train_loader,\n",
    "    model,\n",
    "    criterion,\n",
    "    optimizer,\n",
    "    epoch,\n",
    "    on_iteration=None,\n",
    "):\n",
    "    model = model.train()\n",
    "    end = time.time()\n",
    "    print(\"Start Training\")\n",
    "    avg_loss = 0\n",
    "    for i, (inputs, labels) in enumerate(train_loader):\n",
    "        print(f\"{i/len(train_loader) * 100 : 2.2f}%\", end=\"\\r\")\n",
    "        iteration_time = time.time()\n",
    "        inputs, labels = inputs.to(DEVICE), labels.to(DEVICE)\n",
    "        optimizer.zero_grad()\n",
    "        outputs = model(inputs)\n",
    "        loss = criterion(outputs, labels.unsqueeze(1))\n",
    "        avg_loss += loss.item() / len(outputs)\n",
    "        loss.backward()\n",
    "        optimizer.step()\n",
    "        if on_iteration is not None:\n",
    "            on_iteration(iteration=i+epoch*len(train_loader), loss=loss, y_pred=outputs, y_true=labels)     \n",
    "    return avg_loss/len(train_loader)"
   ]
  },
  {
   "cell_type": "code",
   "execution_count": 10,
   "metadata": {},
   "outputs": [],
   "source": [
    "def validate(val_loader, \n",
    "             model, \n",
    "             criterion,\n",
    "             print_freq=1000):\n",
    "    model = model.eval()\n",
    "    y_true, proba_pred, indexes = [], [], []\n",
    "    avg_loss = 0\n",
    "    for i, (inputs, labels, image_indexes) in enumerate(val_loader):\n",
    "        inputs, labels = inputs.to(DEVICE), labels.to(DEVICE)\n",
    "        labels = labels.unsqueeze(1)\n",
    "        with torch.no_grad():\n",
    "            outputs = model(inputs)\n",
    "            avg_loss += criterion(outputs, labels).item() / len(outputs)\n",
    "        proba_pred.append(outputs.cpu().clone())\n",
    "        y_true.append(labels.cpu().clone())\n",
    "        indexes.append(image_indexes.clone())\n",
    "    return {\"loss\":avg_loss/len(val_loader),\n",
    "            \"ground_truth\":torch.cat(y_true), \n",
    "            \"probabilities\":torch.cat(proba_pred), \n",
    "            \"images_index\":torch.LongTensor(torch.cat(indexes))}"
   ]
  },
  {
   "cell_type": "code",
   "execution_count": 11,
   "metadata": {},
   "outputs": [],
   "source": [
    "def validation_logs(epoch, validation_res):\n",
    "    logger.add_scalar(\"Loss/Avg_Val\", validation_res[\"loss\"], epoch)\n",
    "    logger.add_pr_curve(\"Eval/Prec_recall\", validation_res[\"ground_truth\"], validation_res[\"probabilities\"], epoch)\n",
    "\n",
    "def on_iteration_logs(iteration, loss, y_pred, y_true):\n",
    "    l = loss.item()\n",
    "    if iteration%200 == 0:\n",
    "        logger.add_scalar(\"Loss/Train\", l, iteration)\n",
    "        print(\n",
    "                f\"{iteration}/{len(train_loader)} \\t\"\n",
    "                f\"Loss {l}\"\n",
    "            )"
   ]
  },
  {
   "cell_type": "code",
   "execution_count": 12,
   "metadata": {},
   "outputs": [],
   "source": [
    "logger = SummaryWriter(TENSORBOARD_DIR)"
   ]
  },
  {
   "cell_type": "code",
   "execution_count": 13,
   "metadata": {},
   "outputs": [],
   "source": [
    "torch.backends.cudnn.deterministic = True"
   ]
  },
  {
   "cell_type": "code",
   "execution_count": null,
   "metadata": {},
   "outputs": [
    {
     "name": "stdout",
     "output_type": "stream",
     "text": [
      "Start Training\n",
      "0/1431 \tLoss 0.822343647480011\n",
      " 2.87%\r"
     ]
    }
   ],
   "source": [
    "for i in range(10):\n",
    "    val_res = validate(val_loader, model, criterion)\n",
    "    validation_logs(i, val_res)\n",
    "    loss = train(\n",
    "                    train_loader,\n",
    "                    model,\n",
    "                    criterion,\n",
    "                    optimizer,\n",
    "                    i,\n",
    "                    on_iteration=on_iteration_logs,\n",
    "                )\n",
    "    logger.add_scalar(\"Loss/Avg_Train\", loss, i)"
   ]
  },
  {
   "cell_type": "code",
   "execution_count": null,
   "metadata": {},
   "outputs": [],
   "source": [
    "for i, child in enumerate(model.children()):\n",
    "    if i > 6:\n",
    "        for p in child.parameters():\n",
    "            p.requires_grad=True"
   ]
  },
  {
   "cell_type": "code",
   "execution_count": null,
   "metadata": {},
   "outputs": [],
   "source": [
    "train_loader = DataLoader(train_dataset, batch_size=TRAIN_BATCH_SIZE//2, shuffle=TRAIN_SHUFFLE, num_workers=TRAIN_NUM_WORKERS, pin_memory=True, drop_last=True)\n",
    "optimizer = optim.Adam([p for p in model.parameters() if p.requires_grad], lr=INITIAL_LR*0.1)"
   ]
  },
  {
   "cell_type": "code",
   "execution_count": null,
   "metadata": {},
   "outputs": [],
   "source": [
    "for i in range(10,40):\n",
    "    val_res = validate(val_loader, model, criterion)\n",
    "    validation_logs(i, val_res)\n",
    "    loss = train(\n",
    "                    train_loader,\n",
    "                    model,\n",
    "                    criterion,\n",
    "                    optimizer,\n",
    "                    i,\n",
    "                    on_iteration=on_iteration_logs,\n",
    "                )\n",
    "    logger.add_scalar(\"Loss/Avg_Train\", loss, i)"
   ]
  },
  {
   "cell_type": "code",
   "execution_count": null,
   "metadata": {},
   "outputs": [],
   "source": []
  },
  {
   "cell_type": "code",
   "execution_count": null,
   "metadata": {},
   "outputs": [],
   "source": []
  },
  {
   "cell_type": "code",
   "execution_count": null,
   "metadata": {},
   "outputs": [],
   "source": []
  },
  {
   "cell_type": "code",
   "execution_count": null,
   "metadata": {},
   "outputs": [],
   "source": []
  },
  {
   "cell_type": "code",
   "execution_count": null,
   "metadata": {},
   "outputs": [],
   "source": []
  }
 ],
 "metadata": {
  "kernelspec": {
   "display_name": "Python 3",
   "language": "python",
   "name": "python3"
  },
  "language_info": {
   "codemirror_mode": {
    "name": "ipython",
    "version": 3
   },
   "file_extension": ".py",
   "mimetype": "text/x-python",
   "name": "python",
   "nbconvert_exporter": "python",
   "pygments_lexer": "ipython3",
   "version": "3.7.4"
  }
 },
 "nbformat": 4,
 "nbformat_minor": 4
}
